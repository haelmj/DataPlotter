{
 "cells": [
  {
   "cell_type": "code",
   "execution_count": null,
   "metadata": {},
   "outputs": [],
   "source": []
  },
  {
   "cell_type": "code",
   "execution_count": null,
   "metadata": {},
   "outputs": [],
   "source": [
    "import sys\n",
    "!{sys.executable} -m pip install chart_studio"
   ]
  },
  {
   "cell_type": "code",
   "execution_count": 2,
   "metadata": {},
   "outputs": [],
   "source": [
    "import numpy as np\n",
    "import pandas as pd\n",
    "import chart_studio.plotly as pl\n",
    "from assets.fileexplorer import fileExplorer"
   ]
  },
  {
   "cell_type": "code",
   "execution_count": 3,
   "metadata": {},
   "outputs": [],
   "source": [
    "options = {\"Welcome\": \"Select an option to get started\", \"1\": \"Plot a randomly generated data of give a dimensions\", \"2\": \"Create your own data and plot it\", \"3\": \"Upload a data file and plot the data\"}"
   ]
  },
  {
   "cell_type": "code",
   "execution_count": 4,
   "metadata": {},
   "outputs": [
    {
     "name": "stdout",
     "output_type": "stream",
     "text": [
      "Welcome: Select an option to get started\n",
      "1: Plot a randomly generated data of give a dimensions\n",
      "2: Create your own data and plot it\n",
      "3: Upload a data file and plot the data\n"
     ]
    }
   ],
   "source": [
    "for i,j in options.items():\n",
    "    print(f'{i}: {j}')"
   ]
  },
  {
   "cell_type": "code",
   "execution_count": 38,
   "metadata": {},
   "outputs": [],
   "source": [
    "def random_data(row, col):\n",
    "    \"\"\"Generate Random dataframe of given dimensions\"\"\"\n",
    "    x = np.random.rand(row, col)\n",
    "    df = pd.DataFrame(x)\n",
    "    return df"
   ]
  },
  {
   "cell_type": "code",
   "execution_count": 39,
   "metadata": {},
   "outputs": [],
   "source": [
    "def create_data(row, col):\n",
    "    # set up column headers\n",
    "    print('Enter the Column headers:')\n",
    "    x = [input(f'Column {c+1}:') for c in range(col)]\n",
    "    # get row values\n",
    "    print('Insert the values for each row')\n",
    "    rows = []\n",
    "    # get all row values for the different columns\n",
    "    for i in range(row):\n",
    "        print(f'Values for row {i+1}')\n",
    "        row_value = [input(f'Column {c+1}: ') for c in range(col)]\n",
    "        rows.append(row_value)\n",
    "    n_rows = np.array(rows)\n",
    "    df = pd.DataFrame(n_rows, columns=x)\n",
    "    return df\n",
    "    "
   ]
  },
  {
   "cell_type": "code",
   "execution_count": 42,
   "metadata": {},
   "outputs": [],
   "source": [
    "def upload_data():\n",
    "    print('Select your data:')\n",
    "    ex_formats = ['xls', 'xlsx', 'xlsm', 'xlsb', 'odf', 'ods', 'odt']\n",
    "    file_path = fileExplorer()\n",
    "    # detect file extensions and adapt to necessary conversion\n",
    "    if file_path.endswith('csv'):\n",
    "        x = pd.read_csv(file_path)\n",
    "    elif [True for f in ex_formats if file_path.endswith(f)][0]:\n",
    "        x = pd.read_excel(file_path)\n",
    "    elif file_path.endswith('json'):\n",
    "        x = pd.read_json(file_path)\n",
    "    else:\n",
    "        print('File Type is not supported!')\n",
    "    # check if x has been declared before converting and returning as a dataframe\n",
    "    if 'x' in locals():\n",
    "        df = pd.DataFrame(x)\n",
    "        print('File Upload successful')\n",
    "        return df\n",
    "    \n",
    "    "
   ]
  },
  {
   "cell_type": "code",
   "execution_count": 44,
   "metadata": {},
   "outputs": [],
   "source": [
    "def main():\n",
    "    try:\n",
    "        user_choice = int(input('Select and option between 1-3\\n'))\n",
    "        if user_choice in range(1,4):\n",
    "            if user_choice == 1:\n",
    "                rows = int(input('How many rows do you want to generate? '))\n",
    "                cols = int(input('How many columns do you want to generate? '))\n",
    "                df = random_data(rows, cols)\n",
    "            elif user_choice == 2:\n",
    "                rows = int(input('How many rows do you want to create? '))\n",
    "                cols = int(input('How many columns do you want to create? '))\n",
    "                df = create_data(rows, cols)\n",
    "            elif user_choice == 3:\n",
    "                df = upload_data()\n",
    "            return df\n",
    "        else:\n",
    "            print('Please select a number in the range of 1-3!!!')\n",
    "    except ValueError:\n",
    "        print('Please enter a number not a string!!!')\n",
    "    except Exception:\n",
    "        print('Sorry, we ran into a problem there!')"
   ]
  },
  {
   "cell_type": "code",
   "execution_count": 46,
   "metadata": {},
   "outputs": [],
   "source": [
    "def plot_data(intent, plot_type):\n",
    "    if intent == 'yes' \n",
    "    pass\n",
    "    "
   ]
  },
  {
   "cell_type": "code",
   "execution_count": 45,
   "metadata": {},
   "outputs": [],
   "source": [
    "def plotter():\n",
    "    plot_intent = input('Do you want to plot all columns? Yes/No\\n').lower()\n",
    "    print(\"\"\"Choose the preferred type of plot: \\n\n",
    "        1. Line Plot \\n\n",
    "        2. Scatter Plot \\n\n",
    "        3. Bar Plot \\n\n",
    "        4. Histogram \\n\n",
    "        5. Box Plot \\n\n",
    "        6. Surface Plot \\n\n",
    "        7. Bubble Plot(Not available when plotting all columns)\"\"\")\n",
    "    plot_type = int(input('Enter a number: '))\n",
    "    plot_data(plot_intent, plot_type)\n",
    "    \n",
    "    "
   ]
  },
  {
   "cell_type": "code",
   "execution_count": 37,
   "metadata": {
    "collapsed": true
   },
   "outputs": [
    {
     "name": "stdout",
     "output_type": "stream",
     "text": [
      "Choose the preferred type of plot: \n",
      "\n",
      "        1. Line Plot \n",
      "\n",
      "        2. Scatter Plot \n",
      "\n",
      "        3. Bar Plot \n",
      "\n",
      "        4. Histogram \n",
      "\n",
      "        5. Box Plot \n",
      "\n",
      "        6. Surface Plot \n",
      "\n",
      "        7. Bubble Plot\n"
     ]
    }
   ],
   "source": [
    "plotter()"
   ]
  },
  {
   "cell_type": "code",
   "execution_count": null,
   "metadata": {},
   "outputs": [],
   "source": []
  }
 ],
 "metadata": {
  "kernelspec": {
   "display_name": "Python 3",
   "language": "python",
   "name": "python3"
  },
  "language_info": {
   "codemirror_mode": {
    "name": "ipython",
    "version": 3
   },
   "file_extension": ".py",
   "mimetype": "text/x-python",
   "name": "python",
   "nbconvert_exporter": "python",
   "pygments_lexer": "ipython3",
   "version": "3.8.5"
  }
 },
 "nbformat": 4,
 "nbformat_minor": 4
}
