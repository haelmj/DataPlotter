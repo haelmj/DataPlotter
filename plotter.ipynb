{
 "cells": [
  {
   "cell_type": "code",
   "execution_count": null,
   "metadata": {},
   "outputs": [],
   "source": [
    "import sys\n",
    "!{sys.executable} -m pip install chart_studio"
   ]
  },
  {
   "cell_type": "code",
   "execution_count": 9,
   "metadata": {},
   "outputs": [],
   "source": [
    "import numpy as np\n",
    "import pandas as pd\n",
    "import chart_studio.plotly as pl"
   ]
  },
  {
   "cell_type": "code",
   "execution_count": 11,
   "metadata": {},
   "outputs": [],
   "source": [
    "options = {\"Welcome\": \"Select an option to get started\", \"1\": \"Plot a randomly generated data of give a dimensions\", \"2\": \"Create your own data and plot it\", \"3\": \"Upload a data file and plot the data\"}"
   ]
  },
  {
   "cell_type": "code",
   "execution_count": 16,
   "metadata": {},
   "outputs": [
    {
     "name": "stdout",
     "output_type": "stream",
     "text": [
      "Welcome: Select an option to get started\n",
      "1: Plot a randomly generated data of give a dimensions\n",
      "2: Create your own data and plot it\n",
      "3: Upload a data file and plot the data\n"
     ]
    }
   ],
   "source": [
    "for i,j in options.items():\n",
    "    print(f'{i}: {j}')"
   ]
  },
  {
   "cell_type": "code",
   "execution_count": 23,
   "metadata": {},
   "outputs": [],
   "source": [
    "def random_data(row, col):\n",
    "    x = np.random.rand(row, col)\n",
    "    df = pd.DataFrame(x)\n",
    "    return df"
   ]
  },
  {
   "cell_type": "code",
   "execution_count": 32,
   "metadata": {},
   "outputs": [],
   "source": [
    "def create_data(row, col):\n",
    "    # set up column headers\n",
    "    x = [0 for c in range(col)]\n",
    "    print('Enter the Column headers:')\n",
    "    for i in range(len(x)):\n",
    "        x[i]= input()\n",
    "        i += 1\n",
    "    # get row values\n",
    "    print('Insert the values for each row')\n",
    "    rows = []\n",
    "    for i in range(row):\n",
    "        print(f'Values for row {i+1}')\n",
    "        row_value = [input(f'Column {c+1}: ') for c in range(col)]\n",
    "        rows.append(row_value)\n",
    "    n_rows = np.array(rows)\n",
    "    df = pd.DataFrame(n_rows, columns=x)\n",
    "    return df\n",
    "    "
   ]
  },
  {
   "cell_type": "code",
   "execution_count": 31,
   "metadata": {},
   "outputs": [
    {
     "name": "stdout",
     "output_type": "stream",
     "text": [
      "Enter the Column headers:\n",
      "a\n",
      "b\n",
      "c\n",
      "Insert the values for each row\n",
      "Values for row 0\n",
      "Column 0: 2\n",
      "Column 1: 4\n",
      "Column 2: 5\n",
      "Values for row 1\n",
      "Column 0: 4\n",
      "Column 1: 4\n",
      "Column 2: 4\n",
      "[['2', '4', '5'], ['4', '4', '4']]\n"
     ]
    }
   ],
   "source": [
    "def upload"
   ]
  },
  {
   "cell_type": "code",
   "execution_count": null,
   "metadata": {},
   "outputs": [],
   "source": []
  }
 ],
 "metadata": {
  "kernelspec": {
   "display_name": "Python 3",
   "language": "python",
   "name": "python3"
  },
  "language_info": {
   "codemirror_mode": {
    "name": "ipython",
    "version": 3
   },
   "file_extension": ".py",
   "mimetype": "text/x-python",
   "name": "python",
   "nbconvert_exporter": "python",
   "pygments_lexer": "ipython3",
   "version": "3.8.5"
  }
 },
 "nbformat": 4,
 "nbformat_minor": 4
}
