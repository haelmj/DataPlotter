{
 "cells": [
  {
   "cell_type": "code",
   "execution_count": null,
   "metadata": {},
   "outputs": [],
   "source": [
    "import sys\n",
    "!{sys.executable} -m pip install chart_studio"
   ]
  },
  {
   "cell_type": "code",
   "execution_count": 2,
   "metadata": {},
   "outputs": [],
   "source": [
    "import numpy as np\n",
    "import pandas as pd\n",
    "import chart_studio.plotly as pl\n",
    "from assets.fileexplorer import fileExplorer"
   ]
  },
  {
   "cell_type": "code",
   "execution_count": 3,
   "metadata": {},
   "outputs": [],
   "source": [
    "options = {\"Welcome\": \"Select an option to get started\", \"1\": \"Plot a randomly generated data of give a dimensions\", \"2\": \"Create your own data and plot it\", \"3\": \"Upload a data file and plot the data\"}"
   ]
  },
  {
   "cell_type": "code",
   "execution_count": 4,
   "metadata": {},
   "outputs": [
    {
     "name": "stdout",
     "output_type": "stream",
     "text": [
      "Welcome: Select an option to get started\n",
      "1: Plot a randomly generated data of give a dimensions\n",
      "2: Create your own data and plot it\n",
      "3: Upload a data file and plot the data\n"
     ]
    }
   ],
   "source": [
    "for i,j in options.items():\n",
    "    print(f'{i}: {j}')"
   ]
  },
  {
   "cell_type": "code",
   "execution_count": 5,
   "metadata": {},
   "outputs": [],
   "source": [
    "def random_data(row, col):\n",
    "    x = np.random.rand(row, col)\n",
    "    df = pd.DataFrame(x)\n",
    "    return df"
   ]
  },
  {
   "cell_type": "code",
   "execution_count": 6,
   "metadata": {},
   "outputs": [],
   "source": [
    "def create_data(row, col):\n",
    "    # set up column headers\n",
    "    x = [0 for c in range(col)]\n",
    "    print('Enter the Column headers:')\n",
    "    for i in range(len(x)):\n",
    "        x[i]= input()\n",
    "        i += 1\n",
    "    # get row values\n",
    "    print('Insert the values for each row')\n",
    "    rows = []\n",
    "    for i in range(row):\n",
    "        print(f'Values for row {i+1}')\n",
    "        row_value = [input(f'Column {c+1}: ') for c in range(col)]\n",
    "        rows.append(row_value)\n",
    "    n_rows = np.array(rows)\n",
    "    df = pd.DataFrame(n_rows, columns=x)\n",
    "    return df\n",
    "    "
   ]
  },
  {
   "cell_type": "code",
   "execution_count": 20,
   "metadata": {},
   "outputs": [],
   "source": [
    "def upload_data():\n",
    "    print('Select your data:')\n",
    "    ex_formats = ['xls', 'xlsx', 'xlsm', 'xlsb', 'odf', 'ods', 'odt']\n",
    "    file_path = fileExplorer()\n",
    "    if file_path.endswith('csv'):\n",
    "        x = pd.read_csv(file_path)\n",
    "    elif [True for f in ex_formats if file_path.endswith(f)][0]:\n",
    "        x = pd.read_excel(file_path)\n",
    "    elif file_path.endswith('json'):\n",
    "        x = pd.read_json(file_path)\n",
    "    else:\n",
    "        print('File Type is not supported!')\n",
    "    if 'x' in locals():\n",
    "        df = pd.DataFrame(x)\n",
    "        'File Upload su'\n",
    "        return df\n",
    "    \n",
    "    "
   ]
  },
  {
   "cell_type": "code",
   "execution_count": 21,
   "metadata": {},
   "outputs": [
    {
     "name": "stdout",
     "output_type": "stream",
     "text": [
      "Select your data\n",
      "   SALES_ID SALES_REP               EMAILS       BRANDS  PLANT_COST  \\\n",
      "0     10101   Jardine       jard@gmail.com       trophy         150   \n",
      "1     10102      Gill      gillhell@uk.com    budweiser         250   \n",
      "2     10103   Sorvino  sorvi2000@gmail.com  castle lite         180   \n",
      "3     10104     Jones    jone.ai@yahoo.com  eagle lager         170   \n",
      "4     10105   Andrews       andy@gmail.com         hero         150   \n",
      "\n",
      "   UNIT_PRICE  QUANTITY    COST  PROFIT COUNTRIES     REGION     MONTHS  YEARS  \n",
      "0         200       725  145000   36250     Ghana   Southeast   January   2019  \n",
      "1         500       815  407500  203750   Nigeria        west  February   2018  \n",
      "2         450       937  421650  252990      Togo  southsouth     March   2018  \n",
      "3         250       765  191250   61200     Benin   northwest     April   2018  \n",
      "4         200       836  167200   41800   Senegal  northeast        May   2017  \n"
     ]
    }
   ],
   "source": [
    "print(upload_data().head())"
   ]
  },
  {
   "cell_type": "code",
   "execution_count": null,
   "metadata": {},
   "outputs": [],
   "source": []
  },
  {
   "cell_type": "code",
   "execution_count": null,
   "metadata": {},
   "outputs": [],
   "source": []
  }
 ],
 "metadata": {
  "kernelspec": {
   "display_name": "Python 3",
   "language": "python",
   "name": "python3"
  },
  "language_info": {
   "codemirror_mode": {
    "name": "ipython",
    "version": 3
   },
   "file_extension": ".py",
   "mimetype": "text/x-python",
   "name": "python",
   "nbconvert_exporter": "python",
   "pygments_lexer": "ipython3",
   "version": "3.8.5"
  }
 },
 "nbformat": 4,
 "nbformat_minor": 4
}
